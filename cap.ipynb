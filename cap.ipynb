!pip install opencv-python
!pip install opencv-python-headless
!pip install numpy
!pip install tensorflow

import numpy as np
import cv2
import tensorflow as tf
from matplotlib import pyplot as plt

image_path = "WSU"
image = cv2.imread(image_path)
image_rgb = cv2.cvtColor(image, cv2.COLOR_BGR2RGB)

# 모델을 로드 (모자를 쓴 사람과 모자를 쓰지 않은 사람을 구별하는 모델 사용)
model = tf.keras.models.load_model("hat_vs_no_hat_model.h5")
model.summary()  # 모델 구조를 출력합니다.

# 이미지 전처리
image_resized = cv2.resize(image_rgb, (224, 224))  # 모델 입력 크기에 맞게 이미지를 조정합니다.
image_expanded = np.expand_dims(image_resized, axis=0)  # 배치 차원을 추가합니다.
image_preprocessed = tf.keras.applications.mobilenet_v2.preprocess_input(image_expanded)  # 이미지를 전처리합니다.

# 객체 인식 수행
predictions = model.predict(image_preprocessed)

# 결과를 시각화
def draw_predictions(image, predictions):
    class_names = ['No Hat', 'Hat']
    label = np.argmax(predictions, axis=1)[0]
    score = predictions[0][label]
    class_name = class_names[label]
    # 결과를 이미지에 표시
    plt.figure(figsize=(10, 10))
    plt.imshow(image)
    plt.axis('off')
    plt.title(f"{class_name}: {score:.2f}")
    plt.show()

draw_predictions(image_rgb.copy(), predictions)
